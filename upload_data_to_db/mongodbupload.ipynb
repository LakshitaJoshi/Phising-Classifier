{
 "cells": [
  {
   "cell_type": "code",
   "execution_count": null,
   "id": "ca0d4101-b4d3-4e07-bef3-1ab0f2132c9d",
   "metadata": {},
   "outputs": [],
   "source": [
    "!pip install database_connect"
   ]
  },
  {
   "cell_type": "code",
   "execution_count": 1,
   "id": "3e4c2cf3-52a3-46dc-b4c4-ac16b39b35bc",
   "metadata": {},
   "outputs": [
    {
     "ename": "ModuleNotFoundError",
     "evalue": "No module named 'database_connect'",
     "output_type": "error",
     "traceback": [
      "\u001b[1;31m--------------------------------------------------\u001b[0m",
      "\u001b[1;31mModuleNotFoundErro